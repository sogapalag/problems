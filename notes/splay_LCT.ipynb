{
 "cells": [
  {
   "cell_type": "markdown",
   "metadata": {},
   "source": [
    "### splay tree\n",
    "\n",
    "key idea. after each (insert/find/erase). make the vertex to root.\n",
    "\n",
    "by rotation zig, zig-zag or zig-zig."
   ]
  },
  {
   "cell_type": "markdown",
   "metadata": {},
   "source": [
    "### link cut tree(forest)\n",
    "\n",
    "let's call LCT graph, splay tree. to avoid ambiguity\n",
    "\n",
    "every prefered path(component, real edge, heavy path) is a splay tree by depth.(aka, in-order the splay tree, sorted by depth in graph). let's call it S. since it's a splay tree.\n",
    "\n",
    "how each S. connected? by S's root -> S's smallest depth(in graph)(left-most in-order in tree)'s parent. called path parent pointer(ppp).\n",
    "\n",
    "for short memorization, LCT definition\n",
    "\n",
    "1. (prefered)path is S.\n",
    "2. ppp: S.'s root -> S.'s left's parent\n",
    "\n",
    "by store information in this way, allow us to do dynamic operation.\n",
    "\n",
    "first, key part\n",
    "##### access(v)\n",
    "well, access actually does is making the path from graph's root to v be prefered.\n",
    "\n",
    "by loop up S. splay(x), make their ppp real, till the graph's root. (this key short explantion, and rembember LCT'def)\n",
    "\n",
    "in the end, we can splay(v) or not, depends.\n",
    "\n",
    "##### link(u, v) or link(v)\n",
    "link the two graph. there is option, the link could be prefered or not(light).\n",
    "\n",
    "##### cut(u,v) or cut(v)\n",
    "separate to two graph.\n",
    "\n",
    "hint. keep in mind what access does."
   ]
  },
  {
   "cell_type": "markdown",
   "metadata": {},
   "source": [
    "### useful links\n",
    "\n",
    "http://web.stanford.edu/class/cs166/lectures/10/Small10.pdf\n",
    "\n",
    "https://courses.csail.mit.edu/6.851/spring12/scribe/L19.pdf\n",
    "\n",
    "https://www.cnblogs.com/flashhu/p/8324551.html\n",
    "\n",
    "https://www.cnblogs.com/flashhu/p/9498517.html"
   ]
  },
  {
   "cell_type": "code",
   "execution_count": null,
   "metadata": {},
   "outputs": [],
   "source": []
  }
 ],
 "metadata": {
  "kernelspec": {
   "display_name": "Python 3",
   "language": "python",
   "name": "python3"
  },
  "language_info": {
   "codemirror_mode": {
    "name": "ipython",
    "version": 3
   },
   "file_extension": ".py",
   "mimetype": "text/x-python",
   "name": "python",
   "nbconvert_exporter": "python",
   "pygments_lexer": "ipython3",
   "version": "3.7.2"
  }
 },
 "nbformat": 4,
 "nbformat_minor": 2
}
