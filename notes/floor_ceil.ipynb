{
 "cells": [
  {
   "cell_type": "markdown",
   "metadata": {},
   "source": [
    "### floor, ceil\n",
    "\n",
    "$\\lfloor \\sqrt{\\lfloor x\\rfloor}\\rfloor = \\lfloor \\sqrt{ x}\\rfloor$\n",
    "\n",
    "$\\lceil \\sqrt{\\lceil x\\rceil}\\rceil = \\lceil \\sqrt{x}\\rceil$\n",
    "\n",
    "continuous, monotonically increasing $f$ with property $f(x)\\in Z \\Rightarrow x \\in Z$. Then below holds\n",
    "$$\n",
    "\\begin{align}\n",
    "    \\lfloor f(\\lfloor x\\rfloor)\\rfloor = \\lfloor f(x)\\rfloor,\\ \\lceil f(\\lceil x\\rceil)\\rceil = \\lceil f(x)\\rceil\n",
    "\\end{align}\n",
    "$$\n",
    "\n",
    "$\\lceil \\sqrt{\\lfloor x\\rfloor}\\rceil = \\lceil \\sqrt{ x}\\rceil$, only when $m^2 < x < m^2+1$ not hold.\n",
    "\n",
    "$$\n",
    "\\begin{align}\n",
    "    \\sum_{k=0}^{m-1} \\lfloor \\frac{n+k}{m} \\rfloor =n= \\sum_{k=0}^{m-1} \\lceil \\frac{n-k}{m} \\rceil \n",
    "\\end{align}\n",
    "$$\n",
    "\n",
    "$$\n",
    "\\begin{align}\n",
    "    \\sum_{k=0}^{n-1} \\lfloor \\sqrt{k} \\rfloor = na - \\frac{1}{3} a^3 - \\frac{1}{2}a^2 - \\frac{1}{6}a,\\ a = \\lfloor \\sqrt{n} \\rfloor\n",
    "\\end{align}\n",
    "$$\n",
    "\n",
    "$$\n",
    "\\begin{align}\n",
    "    \\sum_{k=0}^{m-1} \\lfloor \\frac{nk+x}{m} \\rfloor = d  \\lfloor \\frac{x}{d} \\rfloor + \\frac{(m-1)(n-1)}{2} + \\frac{d-1}{2} = \\sum_{k=0}^{n-1} \\lfloor \\frac{mk+x}{n} \\rfloor,\\ d = \\text{gcd}(m,n)\n",
    "\\end{align}\n",
    "$$\n"
   ]
  },
  {
   "cell_type": "code",
   "execution_count": null,
   "metadata": {},
   "outputs": [],
   "source": []
  }
 ],
 "metadata": {
  "kernelspec": {
   "display_name": "Python 3",
   "language": "python",
   "name": "python3"
  },
  "language_info": {
   "codemirror_mode": {
    "name": "ipython",
    "version": 3
   },
   "file_extension": ".py",
   "mimetype": "text/x-python",
   "name": "python",
   "nbconvert_exporter": "python",
   "pygments_lexer": "ipython3",
   "version": "3.7.2"
  }
 },
 "nbformat": 4,
 "nbformat_minor": 2
}
