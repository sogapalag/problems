{
 "cells": [
  {
   "cell_type": "code",
   "execution_count": 9,
   "metadata": {},
   "outputs": [],
   "source": [
    "def solve(n: str) -> int:\n",
    "    # find high odd\n",
    "    h = len(n)\n",
    "    l = len(n)\n",
    "    for i, d in enumerate(n):\n",
    "        if int(d) % 2 == 1:\n",
    "            h = i\n",
    "            break\n",
    "    if h == len(n):\n",
    "        return 0\n",
    "    # must be minus\n",
    "    if int(n[h]) == 9:\n",
    "        return int(n[h:]) - int(str(int(n[h])-1) + '8'*(l-h-1))\n",
    "    # comp dist. (x+1)00...0, (x-1)88...8\n",
    "    return min(int(n[h:]) - int(str(int(n[h])-1) + '8'*(l-h-1)),\n",
    "               (int(n[h])+1) * 10**(l-h-1) - int(n[h:]))"
   ]
  },
  {
   "cell_type": "code",
   "execution_count": 13,
   "metadata": {},
   "outputs": [
    {
     "data": {
      "text/plain": [
       "4000"
      ]
     },
     "execution_count": 13,
     "metadata": {},
     "output_type": "execute_result"
    }
   ],
   "source": [
    "3787+213"
   ]
  },
  {
   "cell_type": "code",
   "execution_count": 14,
   "metadata": {},
   "outputs": [],
   "source": [
    "def main():\n",
    "    T = int(input())\n",
    "    for i in range(T):\n",
    "        res = solve(input())\n",
    "        print('Case #{}: {}'.format(i+1, res))"
   ]
  },
  {
   "cell_type": "code",
   "execution_count": 15,
   "metadata": {},
   "outputs": [
    {
     "name": "stdout",
     "output_type": "stream",
     "text": [
      "1\n",
      "3434\n",
      "Case #1: 546\n"
     ]
    }
   ],
   "source": [
    "def main():\n",
    "    T = int(input())\n",
    "    for i in range(T):\n",
    "        n, k = map(int, input().split(' '))\n",
    "        sn = sum(map(float, input().split(' ')))\n",
    "        # any try is same\n",
    "        print('Case #{}: {}'.format(i+1, sn/n))"
   ]
  },
  {
   "cell_type": "code",
   "execution_count": 16,
   "metadata": {},
   "outputs": [
    {
     "data": {
      "text/plain": [
       "36"
      ]
     },
     "execution_count": 16,
     "metadata": {},
     "output_type": "execute_result"
    }
   ],
   "source": [
    "sum(map(int, ['34', '2']))"
   ]
  },
  {
   "cell_type": "code",
   "execution_count": null,
   "metadata": {},
   "outputs": [],
   "source": [
    "if '__name__' == '__main__':\n",
    "    main()"
   ]
  }
 ],
 "metadata": {
  "kernelspec": {
   "display_name": "Python 3",
   "language": "python",
   "name": "python3"
  },
  "language_info": {
   "codemirror_mode": {
    "name": "ipython",
    "version": 3
   },
   "file_extension": ".py",
   "mimetype": "text/x-python",
   "name": "python",
   "nbconvert_exporter": "python",
   "pygments_lexer": "ipython3",
   "version": "3.7.2"
  }
 },
 "nbformat": 4,
 "nbformat_minor": 2
}
